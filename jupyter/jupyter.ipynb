{
  "nbformat": 4,
  "nbformat_minor": 0,
  "metadata": {
    "colab": {
      "name": "jupyter",
      "provenance": []
    },
    "kernelspec": {
      "name": "python3",
      "display_name": "Python 3"
    },
    "language_info": {
      "name": "python"
    }
  },
  "cells": [
    {
      "cell_type": "code",
      "execution_count": null,
      "metadata": {
        "id": "gKbX-rdZFO0n",
        "cellView": "form"
      },
      "outputs": [],
      "source": [
        "#@title Build [Archiso](https://wiki.archlinux.org/title/Archiso) profiles\n",
        "\n",
        "profile = \"releng\" #@param [\"releng\"]\n",
        "\n",
        "#@markdown The whole process takes about an hour, so brew a coffee, don't\n",
        "#@markdown close the page and be ready to prove you're not a robot.\n",
        "\n",
        "#@markdown **NOTE:** Don't run this outside a container\n",
        "#@markdown or you will break your system.\n",
        "\n",
        "!apt install git python-pip >/dev/null 2>&1\n",
        "!sudo pip install ipython >/dev/null 2>&1\n",
        "!git clone https://gitlab.archlinux.org/tallero/archiso-profiles >/dev/null 2>&1\n",
        "!git -C archiso-profiles checkout -b noapps >/dev/null 2>&1\n",
        "!git -C archiso-profiles pull origin noapps >/dev/null 2>&1\n",
        "%run \"archiso-profiles/jupyter/build.ipy\"\n",
        "\n",
        "build_releng()"
      ]
    }
  ]
}